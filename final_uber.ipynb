{
 "cells": [
  {
   "cell_type": "code",
   "execution_count": 1,
   "id": "641eb831-e10b-40ae-a0bc-6358189ceeb0",
   "metadata": {},
   "outputs": [],
   "source": [
    "import pandas as pd"
   ]
  },
  {
   "cell_type": "code",
   "execution_count": 2,
   "id": "964788d2-3c21-4f83-b8f8-d1e2d4771e8e",
   "metadata": {},
   "outputs": [],
   "source": [
    "import numpy as np"
   ]
  },
  {
   "cell_type": "code",
   "execution_count": 3,
   "id": "f73e5724-d462-48b4-bd32-f0cefd30e9ac",
   "metadata": {},
   "outputs": [],
   "source": [
    "df=pd.read_csv('uber.csv')"
   ]
  },
  {
   "cell_type": "code",
   "execution_count": 4,
   "id": "2e0ddd2a-67fd-4ac4-8ece-7165725154b6",
   "metadata": {},
   "outputs": [
    {
     "data": {
      "text/plain": [
       "Unnamed: 0           0\n",
       "key                  0\n",
       "fare_amount          0\n",
       "pickup_datetime      0\n",
       "pickup_longitude     0\n",
       "pickup_latitude      0\n",
       "dropoff_longitude    1\n",
       "dropoff_latitude     1\n",
       "passenger_count      0\n",
       "dtype: int64"
      ]
     },
     "execution_count": 4,
     "metadata": {},
     "output_type": "execute_result"
    }
   ],
   "source": [
    "df.isna().sum()"
   ]
  },
  {
   "cell_type": "code",
   "execution_count": 5,
   "id": "5fd0291e-07b6-42bc-8eb8-801e48e3c0f0",
   "metadata": {},
   "outputs": [],
   "source": [
    "df=df.dropna()"
   ]
  },
  {
   "cell_type": "code",
   "execution_count": 6,
   "id": "8070c03b-76b9-457b-93d0-9fc411b94f90",
   "metadata": {},
   "outputs": [
    {
     "data": {
      "text/plain": [
       "Unnamed: 0           0\n",
       "key                  0\n",
       "fare_amount          0\n",
       "pickup_datetime      0\n",
       "pickup_longitude     0\n",
       "pickup_latitude      0\n",
       "dropoff_longitude    0\n",
       "dropoff_latitude     0\n",
       "passenger_count      0\n",
       "dtype: int64"
      ]
     },
     "execution_count": 6,
     "metadata": {},
     "output_type": "execute_result"
    }
   ],
   "source": [
    "df.isna().sum()"
   ]
  },
  {
   "cell_type": "code",
   "execution_count": 7,
   "id": "31b12f6d-3896-4f0c-a530-16ad593aa901",
   "metadata": {},
   "outputs": [],
   "source": [
    "df=df.drop(columns=['Unnamed: 0','key','pickup_datetime'])"
   ]
  },
  {
   "cell_type": "code",
   "execution_count": 8,
   "id": "9be4f096-01c7-4502-9e5b-6be47cf1c8c9",
   "metadata": {},
   "outputs": [
    {
     "name": "stdout",
     "output_type": "stream",
     "text": [
      "<class 'pandas.core.frame.DataFrame'>\n",
      "Index: 199999 entries, 0 to 199999\n",
      "Data columns (total 6 columns):\n",
      " #   Column             Non-Null Count   Dtype  \n",
      "---  ------             --------------   -----  \n",
      " 0   fare_amount        199999 non-null  float64\n",
      " 1   pickup_longitude   199999 non-null  float64\n",
      " 2   pickup_latitude    199999 non-null  float64\n",
      " 3   dropoff_longitude  199999 non-null  float64\n",
      " 4   dropoff_latitude   199999 non-null  float64\n",
      " 5   passenger_count    199999 non-null  int64  \n",
      "dtypes: float64(5), int64(1)\n",
      "memory usage: 10.7 MB\n"
     ]
    }
   ],
   "source": [
    "df.info()"
   ]
  },
  {
   "cell_type": "code",
   "execution_count": 9,
   "id": "a432e665-ff2a-4b29-8f5a-c6348e912ac6",
   "metadata": {},
   "outputs": [
    {
     "data": {
      "text/plain": [
       "True"
      ]
     },
     "execution_count": 9,
     "metadata": {},
     "output_type": "execute_result"
    }
   ],
   "source": [
    "(df.fare_amount==0).any()"
   ]
  },
  {
   "cell_type": "code",
   "execution_count": 10,
   "id": "b59743d2-37c7-4d69-8e28-a577f55d340e",
   "metadata": {},
   "outputs": [],
   "source": [
    "df=df[df['fare_amount']!=0]"
   ]
  },
  {
   "cell_type": "code",
   "execution_count": 11,
   "id": "e2d1d76b-cd92-4dee-b71d-6ad932ca17c3",
   "metadata": {},
   "outputs": [
    {
     "data": {
      "text/plain": [
       "False"
      ]
     },
     "execution_count": 11,
     "metadata": {},
     "output_type": "execute_result"
    }
   ],
   "source": [
    "(df.fare_amount==0).any()"
   ]
  },
  {
   "cell_type": "code",
   "execution_count": 12,
   "id": "7fe37da0-4cb5-48d9-b03b-8a7ce5cc727c",
   "metadata": {},
   "outputs": [],
   "source": [
    "# Step 2: Feature Engineering - Calculate Distance\n",
    "#Since we have latitude and longitude coordinates, we can calculate the Haversine distance between the pickup and drop-off points, which provides an approximate \"as-the-crow-flies\" distance in kilometers."
   ]
  },
  {
   "cell_type": "code",
   "execution_count": 13,
   "id": "1e2898b1-12b7-443a-a181-a690695c5b6f",
   "metadata": {},
   "outputs": [],
   "source": [
    "from math import radians,sin,cos,sqrt,atan2"
   ]
  },
  {
   "cell_type": "code",
   "execution_count": 14,
   "id": "976d0712-82e0-4ca5-a815-0d78bad14c6c",
   "metadata": {},
   "outputs": [],
   "source": [
    "#The Haversine distance is a formula used to calculate the shortest distance between two points on the Earth's surface, given their latitude and longitude.\n",
    "def cal_distance(df):\n",
    "    R=6371 # radius of earth\n",
    "    x1=df['pickup_longitude']\n",
    "    y1=df['pickup_latitude']\n",
    "    x2=df['dropoff_longitude']\n",
    "    y2=df['dropoff_latitude']\n",
    "    # Convert latitude and longitude from degrees to radians\n",
    "    lat1,lon1,lat2,lon2=map(radians,[x1,y1,x2,y2])\n",
    "     # Calculate differences\n",
    "    dlon=lon2-lon1\n",
    "    dlat=lat2-lat1\n",
    "    #apply  the Haversine formula \n",
    "    a=sin(dlat/2)**2+cos(lat1)*cos(lat2)*sin(dlon/2)**2\n",
    "    c=2*atan2(sqrt(a),sqrt(1-a))\n",
    "    return R*c\n",
    "    "
   ]
  },
  {
   "cell_type": "code",
   "execution_count": 15,
   "id": "b3d08640-33fa-4459-8c27-8640fd0d894b",
   "metadata": {},
   "outputs": [],
   "source": [
    "df['distance']=df.apply(cal_distance,axis=1)"
   ]
  },
  {
   "cell_type": "code",
   "execution_count": 16,
   "id": "0f0afbf1-da9c-43b3-ad88-42f60b5dcd67",
   "metadata": {},
   "outputs": [
    {
     "data": {
      "text/html": [
       "<div>\n",
       "<style scoped>\n",
       "    .dataframe tbody tr th:only-of-type {\n",
       "        vertical-align: middle;\n",
       "    }\n",
       "\n",
       "    .dataframe tbody tr th {\n",
       "        vertical-align: top;\n",
       "    }\n",
       "\n",
       "    .dataframe thead th {\n",
       "        text-align: right;\n",
       "    }\n",
       "</style>\n",
       "<table border=\"1\" class=\"dataframe\">\n",
       "  <thead>\n",
       "    <tr style=\"text-align: right;\">\n",
       "      <th></th>\n",
       "      <th>fare_amount</th>\n",
       "      <th>pickup_longitude</th>\n",
       "      <th>pickup_latitude</th>\n",
       "      <th>dropoff_longitude</th>\n",
       "      <th>dropoff_latitude</th>\n",
       "      <th>passenger_count</th>\n",
       "      <th>distance</th>\n",
       "    </tr>\n",
       "  </thead>\n",
       "  <tbody>\n",
       "    <tr>\n",
       "      <th>0</th>\n",
       "      <td>7.5</td>\n",
       "      <td>-73.999817</td>\n",
       "      <td>40.738354</td>\n",
       "      <td>-73.999512</td>\n",
       "      <td>40.723217</td>\n",
       "      <td>1</td>\n",
       "      <td>0.465181</td>\n",
       "    </tr>\n",
       "    <tr>\n",
       "      <th>1</th>\n",
       "      <td>7.7</td>\n",
       "      <td>-73.994355</td>\n",
       "      <td>40.728225</td>\n",
       "      <td>-73.994710</td>\n",
       "      <td>40.750325</td>\n",
       "      <td>1</td>\n",
       "      <td>0.678728</td>\n",
       "    </tr>\n",
       "    <tr>\n",
       "      <th>2</th>\n",
       "      <td>12.9</td>\n",
       "      <td>-74.005043</td>\n",
       "      <td>40.740770</td>\n",
       "      <td>-73.962565</td>\n",
       "      <td>40.772647</td>\n",
       "      <td>1</td>\n",
       "      <td>4.823521</td>\n",
       "    </tr>\n",
       "    <tr>\n",
       "      <th>3</th>\n",
       "      <td>5.3</td>\n",
       "      <td>-73.976124</td>\n",
       "      <td>40.790844</td>\n",
       "      <td>-73.965316</td>\n",
       "      <td>40.803349</td>\n",
       "      <td>3</td>\n",
       "      <td>1.261639</td>\n",
       "    </tr>\n",
       "    <tr>\n",
       "      <th>4</th>\n",
       "      <td>16.0</td>\n",
       "      <td>-73.925023</td>\n",
       "      <td>40.744085</td>\n",
       "      <td>-73.973082</td>\n",
       "      <td>40.761247</td>\n",
       "      <td>5</td>\n",
       "      <td>5.369902</td>\n",
       "    </tr>\n",
       "  </tbody>\n",
       "</table>\n",
       "</div>"
      ],
      "text/plain": [
       "   fare_amount  pickup_longitude  pickup_latitude  dropoff_longitude  \\\n",
       "0          7.5        -73.999817        40.738354         -73.999512   \n",
       "1          7.7        -73.994355        40.728225         -73.994710   \n",
       "2         12.9        -74.005043        40.740770         -73.962565   \n",
       "3          5.3        -73.976124        40.790844         -73.965316   \n",
       "4         16.0        -73.925023        40.744085         -73.973082   \n",
       "\n",
       "   dropoff_latitude  passenger_count  distance  \n",
       "0         40.723217                1  0.465181  \n",
       "1         40.750325                1  0.678728  \n",
       "2         40.772647                1  4.823521  \n",
       "3         40.803349                3  1.261639  \n",
       "4         40.761247                5  5.369902  "
      ]
     },
     "execution_count": 16,
     "metadata": {},
     "output_type": "execute_result"
    }
   ],
   "source": [
    "df.head()"
   ]
  },
  {
   "cell_type": "code",
   "execution_count": 17,
   "id": "493379b5-4b96-411c-affc-86c48252899c",
   "metadata": {},
   "outputs": [
    {
     "data": {
      "text/plain": [
       "count    199994.000000\n",
       "mean         20.454706\n",
       "std         388.952461\n",
       "min           0.000000\n",
       "25%           0.824441\n",
       "50%           1.526194\n",
       "75%           2.807679\n",
       "max       16321.330096\n",
       "Name: distance, dtype: float64"
      ]
     },
     "execution_count": 17,
     "metadata": {},
     "output_type": "execute_result"
    }
   ],
   "source": [
    "df['distance'].describe()"
   ]
  },
  {
   "cell_type": "code",
   "execution_count": 18,
   "id": "7dcdfb63-802d-4de2-a4f6-2b752c06ae89",
   "metadata": {},
   "outputs": [
    {
     "data": {
      "text/plain": [
       "True"
      ]
     },
     "execution_count": 18,
     "metadata": {},
     "output_type": "execute_result"
    }
   ],
   "source": [
    "(df.distance==0).any()"
   ]
  },
  {
   "cell_type": "code",
   "execution_count": 19,
   "id": "26c0085d-a69a-4467-a6bc-c2e4cad3f5c1",
   "metadata": {},
   "outputs": [],
   "source": [
    "df=df[df['distance']!=0]"
   ]
  },
  {
   "cell_type": "code",
   "execution_count": 20,
   "id": "b1084399-769e-48ad-89a6-16259ceae6f5",
   "metadata": {},
   "outputs": [
    {
     "data": {
      "text/plain": [
       "False"
      ]
     },
     "execution_count": 20,
     "metadata": {},
     "output_type": "execute_result"
    }
   ],
   "source": [
    "(df.distance==0).any()"
   ]
  },
  {
   "cell_type": "code",
   "execution_count": 21,
   "id": "ae6402e6-38c4-4c6c-87a2-907867b677d7",
   "metadata": {},
   "outputs": [],
   "source": [
    "import matplotlib.pyplot as plt\n",
    "import seaborn as sns"
   ]
  },
  {
   "cell_type": "code",
   "execution_count": 22,
   "id": "56d4f35e-18ef-465b-aa0a-ae437649096d",
   "metadata": {},
   "outputs": [
    {
     "data": {
      "text/plain": [
       "<Axes: ylabel='distance'>"
      ]
     },
     "execution_count": 22,
     "metadata": {},
     "output_type": "execute_result"
    },
    {
     "data": {
      "image/png": "[encoded data removed]",
      "text/plain": [
       "<Figure size 640x480 with 1 Axes>"
      ]
     },
     "metadata": {},
     "output_type": "display_data"
    }
   ],
   "source": [
    "sns.boxplot(df['distance'])"
   ]
  },
  {
   "cell_type": "code",
   "execution_count": 23,
   "id": "dd721272-7d7f-412d-8cb8-f942f1004644",
   "metadata": {},
   "outputs": [
    {
     "data": {
      "text/html": [
       "<div>\n",
       "<style scoped>\n",
       "    .dataframe tbody tr th:only-of-type {\n",
       "        vertical-align: middle;\n",
       "    }\n",
       "\n",
       "    .dataframe tbody tr th {\n",
       "        vertical-align: top;\n",
       "    }\n",
       "\n",
       "    .dataframe thead th {\n",
       "        text-align: right;\n",
       "    }\n",
       "</style>\n",
       "<table border=\"1\" class=\"dataframe\">\n",
       "  <thead>\n",
       "    <tr style=\"text-align: right;\">\n",
       "      <th></th>\n",
       "      <th>fare_amount</th>\n",
       "      <th>pickup_longitude</th>\n",
       "      <th>pickup_latitude</th>\n",
       "      <th>dropoff_longitude</th>\n",
       "      <th>dropoff_latitude</th>\n",
       "      <th>passenger_count</th>\n",
       "      <th>distance</th>\n",
       "    </tr>\n",
       "  </thead>\n",
       "  <tbody>\n",
       "    <tr>\n",
       "      <th>75851</th>\n",
       "      <td>15.7</td>\n",
       "      <td>-1340.64841</td>\n",
       "      <td>1644.421482</td>\n",
       "      <td>-3356.6663</td>\n",
       "      <td>872.697628</td>\n",
       "      <td>1</td>\n",
       "      <td>16321.330096</td>\n",
       "    </tr>\n",
       "  </tbody>\n",
       "</table>\n",
       "</div>"
      ],
      "text/plain": [
       "       fare_amount  pickup_longitude  pickup_latitude  dropoff_longitude  \\\n",
       "75851         15.7       -1340.64841      1644.421482         -3356.6663   \n",
       "\n",
       "       dropoff_latitude  passenger_count      distance  \n",
       "75851        872.697628                1  16321.330096  "
      ]
     },
     "execution_count": 23,
     "metadata": {},
     "output_type": "execute_result"
    }
   ],
   "source": [
    "df[df['distance']>10000]"
   ]
  },
  {
   "cell_type": "code",
   "execution_count": 24,
   "id": "0027d8db-d800-446e-9e15-00e65126d96c",
   "metadata": {},
   "outputs": [],
   "source": [
    "df=df[df['distance']<10000]"
   ]
  },
  {
   "cell_type": "code",
   "execution_count": 25,
   "id": "ff3f6e01-cb3a-42bd-a9e3-6b502f2415b0",
   "metadata": {},
   "outputs": [
    {
     "data": {
      "text/plain": [
       "<Axes: ylabel='fare_amount'>"
      ]
     },
     "execution_count": 25,
     "metadata": {},
     "output_type": "execute_result"
    },
    {
     "data": {
      "image/png": "[encoded data removed]",
      "text/plain": [
       "<Figure size 640x480 with 1 Axes>"
      ]
     },
     "metadata": {},
     "output_type": "display_data"
    }
   ],
   "source": [
    "sns.boxplot(df['fare_amount'])"
   ]
  },
  {
   "cell_type": "code",
   "execution_count": 26,
   "id": "32f5cd4a-8ceb-48c1-9f82-1615267a4ae9",
   "metadata": {},
   "outputs": [
    {
     "data": {
      "text/html": [
       "<div>\n",
       "<style scoped>\n",
       "    .dataframe tbody tr th:only-of-type {\n",
       "        vertical-align: middle;\n",
       "    }\n",
       "\n",
       "    .dataframe tbody tr th {\n",
       "        vertical-align: top;\n",
       "    }\n",
       "\n",
       "    .dataframe thead th {\n",
       "        text-align: right;\n",
       "    }\n",
       "</style>\n",
       "<table border=\"1\" class=\"dataframe\">\n",
       "  <thead>\n",
       "    <tr style=\"text-align: right;\">\n",
       "      <th></th>\n",
       "      <th>fare_amount</th>\n",
       "      <th>pickup_longitude</th>\n",
       "      <th>pickup_latitude</th>\n",
       "      <th>dropoff_longitude</th>\n",
       "      <th>dropoff_latitude</th>\n",
       "      <th>passenger_count</th>\n",
       "      <th>distance</th>\n",
       "    </tr>\n",
       "  </thead>\n",
       "  <tbody>\n",
       "    <tr>\n",
       "      <th>170081</th>\n",
       "      <td>499.0</td>\n",
       "      <td>-73.968377</td>\n",
       "      <td>40.764602</td>\n",
       "      <td>-73.968368</td>\n",
       "      <td>40.7646</td>\n",
       "      <td>1</td>\n",
       "      <td>0.001003</td>\n",
       "    </tr>\n",
       "  </tbody>\n",
       "</table>\n",
       "</div>"
      ],
      "text/plain": [
       "        fare_amount  pickup_longitude  pickup_latitude  dropoff_longitude  \\\n",
       "170081        499.0        -73.968377        40.764602         -73.968368   \n",
       "\n",
       "        dropoff_latitude  passenger_count  distance  \n",
       "170081           40.7646                1  0.001003  "
      ]
     },
     "execution_count": 26,
     "metadata": {},
     "output_type": "execute_result"
    }
   ],
   "source": [
    "df[df['fare_amount']>300]"
   ]
  },
  {
   "cell_type": "code",
   "execution_count": 27,
   "id": "f6642a5f-761f-498e-b7d4-b5f543d6c8ea",
   "metadata": {},
   "outputs": [],
   "source": [
    "df=df[df['fare_amount']<300]"
   ]
  },
  {
   "cell_type": "code",
   "execution_count": 28,
   "id": "08928fd3-0fa7-4e5b-8d68-398e91af6fec",
   "metadata": {},
   "outputs": [
    {
     "data": {
      "text/plain": [
       "<Axes: ylabel='passenger_count'>"
      ]
     },
     "execution_count": 28,
     "metadata": {},
     "output_type": "execute_result"
    },
    {
     "data": {
      "image/png": "[encoded data removed]",
      "text/plain": [
       "<Figure size 640x480 with 1 Axes>"
      ]
     },
     "metadata": {},
     "output_type": "display_data"
    }
   ],
   "source": [
    "sns.boxplot(df['passenger_count'])"
   ]
  },
  {
   "cell_type": "code",
   "execution_count": 29,
   "id": "4437a3f9-9ffb-454d-b405-9fcb6ceae002",
   "metadata": {},
   "outputs": [
    {
     "data": {
      "text/html": [
       "<div>\n",
       "<style scoped>\n",
       "    .dataframe tbody tr th:only-of-type {\n",
       "        vertical-align: middle;\n",
       "    }\n",
       "\n",
       "    .dataframe tbody tr th {\n",
       "        vertical-align: top;\n",
       "    }\n",
       "\n",
       "    .dataframe thead th {\n",
       "        text-align: right;\n",
       "    }\n",
       "</style>\n",
       "<table border=\"1\" class=\"dataframe\">\n",
       "  <thead>\n",
       "    <tr style=\"text-align: right;\">\n",
       "      <th></th>\n",
       "      <th>fare_amount</th>\n",
       "      <th>pickup_longitude</th>\n",
       "      <th>pickup_latitude</th>\n",
       "      <th>dropoff_longitude</th>\n",
       "      <th>dropoff_latitude</th>\n",
       "      <th>passenger_count</th>\n",
       "      <th>distance</th>\n",
       "    </tr>\n",
       "  </thead>\n",
       "  <tbody>\n",
       "    <tr>\n",
       "      <th>113038</th>\n",
       "      <td>11.7</td>\n",
       "      <td>-73.937795</td>\n",
       "      <td>40.758498</td>\n",
       "      <td>-73.937835</td>\n",
       "      <td>40.758415</td>\n",
       "      <td>208</td>\n",
       "      <td>0.005129</td>\n",
       "    </tr>\n",
       "  </tbody>\n",
       "</table>\n",
       "</div>"
      ],
      "text/plain": [
       "        fare_amount  pickup_longitude  pickup_latitude  dropoff_longitude  \\\n",
       "113038         11.7        -73.937795        40.758498         -73.937835   \n",
       "\n",
       "        dropoff_latitude  passenger_count  distance  \n",
       "113038         40.758415              208  0.005129  "
      ]
     },
     "execution_count": 29,
     "metadata": {},
     "output_type": "execute_result"
    }
   ],
   "source": [
    "df[df['passenger_count']>50]"
   ]
  },
  {
   "cell_type": "code",
   "execution_count": 30,
   "id": "b03b1ce6-6fc5-4c1a-8323-34e570a70026",
   "metadata": {},
   "outputs": [],
   "source": [
    "df=df[df['passenger_count']<50]"
   ]
  },
  {
   "cell_type": "code",
   "execution_count": 31,
   "id": "d4c4f95c-dafd-443b-a944-f81c989cbdf6",
   "metadata": {},
   "outputs": [
    {
     "data": {
      "text/plain": [
       "<Axes: ylabel='passenger_count'>"
      ]
     },
     "execution_count": 31,
     "metadata": {},
     "output_type": "execute_result"
    },
    {
     "data": {
      "image/png": "[encoded data removed]",
      "text/plain": [
       "<Figure size 640x480 with 1 Axes>"
      ]
     },
     "metadata": {},
     "output_type": "display_data"
    }
   ],
   "source": [
    "sns.boxplot(df['passenger_count'])"
   ]
  },
  {
   "cell_type": "code",
   "execution_count": 32,
   "id": "898bd285-2253-4511-9229-33521e05f90e",
   "metadata": {},
   "outputs": [
    {
     "data": {
      "text/html": [
       "<div>\n",
       "<style scoped>\n",
       "    .dataframe tbody tr th:only-of-type {\n",
       "        vertical-align: middle;\n",
       "    }\n",
       "\n",
       "    .dataframe tbody tr th {\n",
       "        vertical-align: top;\n",
       "    }\n",
       "\n",
       "    .dataframe thead th {\n",
       "        text-align: right;\n",
       "    }\n",
       "</style>\n",
       "<table border=\"1\" class=\"dataframe\">\n",
       "  <thead>\n",
       "    <tr style=\"text-align: right;\">\n",
       "      <th></th>\n",
       "      <th>fare_amount</th>\n",
       "      <th>pickup_longitude</th>\n",
       "      <th>pickup_latitude</th>\n",
       "      <th>dropoff_longitude</th>\n",
       "      <th>dropoff_latitude</th>\n",
       "      <th>passenger_count</th>\n",
       "      <th>distance</th>\n",
       "    </tr>\n",
       "  </thead>\n",
       "  <tbody>\n",
       "    <tr>\n",
       "      <th>145</th>\n",
       "      <td>38.54</td>\n",
       "      <td>-73.862762</td>\n",
       "      <td>40.768791</td>\n",
       "      <td>-73.978737</td>\n",
       "      <td>40.753040</td>\n",
       "      <td>6</td>\n",
       "      <td>12.904888</td>\n",
       "    </tr>\n",
       "    <tr>\n",
       "      <th>252</th>\n",
       "      <td>10.50</td>\n",
       "      <td>-73.981239</td>\n",
       "      <td>40.752876</td>\n",
       "      <td>-73.995277</td>\n",
       "      <td>40.726177</td>\n",
       "      <td>6</td>\n",
       "      <td>1.762725</td>\n",
       "    </tr>\n",
       "    <tr>\n",
       "      <th>390</th>\n",
       "      <td>4.50</td>\n",
       "      <td>-73.989575</td>\n",
       "      <td>40.758767</td>\n",
       "      <td>-73.969325</td>\n",
       "      <td>40.766030</td>\n",
       "      <td>6</td>\n",
       "      <td>2.262702</td>\n",
       "    </tr>\n",
       "    <tr>\n",
       "      <th>392</th>\n",
       "      <td>22.00</td>\n",
       "      <td>-73.978450</td>\n",
       "      <td>40.736707</td>\n",
       "      <td>-73.934902</td>\n",
       "      <td>40.810442</td>\n",
       "      <td>6</td>\n",
       "      <td>5.346243</td>\n",
       "    </tr>\n",
       "    <tr>\n",
       "      <th>416</th>\n",
       "      <td>5.00</td>\n",
       "      <td>-73.977120</td>\n",
       "      <td>40.745432</td>\n",
       "      <td>-73.974743</td>\n",
       "      <td>40.750415</td>\n",
       "      <td>6</td>\n",
       "      <td>0.305375</td>\n",
       "    </tr>\n",
       "    <tr>\n",
       "      <th>...</th>\n",
       "      <td>...</td>\n",
       "      <td>...</td>\n",
       "      <td>...</td>\n",
       "      <td>...</td>\n",
       "      <td>...</td>\n",
       "      <td>...</td>\n",
       "      <td>...</td>\n",
       "    </tr>\n",
       "    <tr>\n",
       "      <th>199796</th>\n",
       "      <td>9.00</td>\n",
       "      <td>-73.970375</td>\n",
       "      <td>40.761642</td>\n",
       "      <td>-73.980985</td>\n",
       "      <td>40.757700</td>\n",
       "      <td>6</td>\n",
       "      <td>1.185967</td>\n",
       "    </tr>\n",
       "    <tr>\n",
       "      <th>199876</th>\n",
       "      <td>11.30</td>\n",
       "      <td>-73.973325</td>\n",
       "      <td>40.748505</td>\n",
       "      <td>-74.004147</td>\n",
       "      <td>40.741472</td>\n",
       "      <td>6</td>\n",
       "      <td>3.434031</td>\n",
       "    </tr>\n",
       "    <tr>\n",
       "      <th>199890</th>\n",
       "      <td>7.00</td>\n",
       "      <td>-73.989767</td>\n",
       "      <td>40.725547</td>\n",
       "      <td>-74.002000</td>\n",
       "      <td>40.716875</td>\n",
       "      <td>6</td>\n",
       "      <td>1.385985</td>\n",
       "    </tr>\n",
       "    <tr>\n",
       "      <th>199893</th>\n",
       "      <td>6.00</td>\n",
       "      <td>-73.972245</td>\n",
       "      <td>40.749600</td>\n",
       "      <td>-73.984660</td>\n",
       "      <td>40.732842</td>\n",
       "      <td>6</td>\n",
       "      <td>1.473174</td>\n",
       "    </tr>\n",
       "    <tr>\n",
       "      <th>199957</th>\n",
       "      <td>24.50</td>\n",
       "      <td>-73.951662</td>\n",
       "      <td>40.773657</td>\n",
       "      <td>-73.861885</td>\n",
       "      <td>40.767337</td>\n",
       "      <td>6</td>\n",
       "      <td>9.984647</td>\n",
       "    </tr>\n",
       "  </tbody>\n",
       "</table>\n",
       "<p>4170 rows × 7 columns</p>\n",
       "</div>"
      ],
      "text/plain": [
       "        fare_amount  pickup_longitude  pickup_latitude  dropoff_longitude  \\\n",
       "145           38.54        -73.862762        40.768791         -73.978737   \n",
       "252           10.50        -73.981239        40.752876         -73.995277   \n",
       "390            4.50        -73.989575        40.758767         -73.969325   \n",
       "392           22.00        -73.978450        40.736707         -73.934902   \n",
       "416            5.00        -73.977120        40.745432         -73.974743   \n",
       "...             ...               ...              ...                ...   \n",
       "199796         9.00        -73.970375        40.761642         -73.980985   \n",
       "199876        11.30        -73.973325        40.748505         -74.004147   \n",
       "199890         7.00        -73.989767        40.725547         -74.002000   \n",
       "199893         6.00        -73.972245        40.749600         -73.984660   \n",
       "199957        24.50        -73.951662        40.773657         -73.861885   \n",
       "\n",
       "        dropoff_latitude  passenger_count   distance  \n",
       "145            40.753040                6  12.904888  \n",
       "252            40.726177                6   1.762725  \n",
       "390            40.766030                6   2.262702  \n",
       "392            40.810442                6   5.346243  \n",
       "416            40.750415                6   0.305375  \n",
       "...                  ...              ...        ...  \n",
       "199796         40.757700                6   1.185967  \n",
       "199876         40.741472                6   3.434031  \n",
       "199890         40.716875                6   1.385985  \n",
       "199893         40.732842                6   1.473174  \n",
       "199957         40.767337                6   9.984647  \n",
       "\n",
       "[4170 rows x 7 columns]"
      ]
     },
     "execution_count": 32,
     "metadata": {},
     "output_type": "execute_result"
    }
   ],
   "source": [
    "df[df['passenger_count']>5]"
   ]
  },
  {
   "cell_type": "code",
   "execution_count": 33,
   "id": "9442c30f-d38d-410a-a76d-5272ff5455d1",
   "metadata": {},
   "outputs": [
    {
     "data": {
      "text/html": [
       "<div>\n",
       "<style scoped>\n",
       "    .dataframe tbody tr th:only-of-type {\n",
       "        vertical-align: middle;\n",
       "    }\n",
       "\n",
       "    .dataframe tbody tr th {\n",
       "        vertical-align: top;\n",
       "    }\n",
       "\n",
       "    .dataframe thead th {\n",
       "        text-align: right;\n",
       "    }\n",
       "</style>\n",
       "<table border=\"1\" class=\"dataframe\">\n",
       "  <thead>\n",
       "    <tr style=\"text-align: right;\">\n",
       "      <th></th>\n",
       "      <th>fare_amount</th>\n",
       "      <th>pickup_longitude</th>\n",
       "      <th>pickup_latitude</th>\n",
       "      <th>dropoff_longitude</th>\n",
       "      <th>dropoff_latitude</th>\n",
       "      <th>passenger_count</th>\n",
       "      <th>distance</th>\n",
       "    </tr>\n",
       "  </thead>\n",
       "  <tbody>\n",
       "    <tr>\n",
       "      <th>fare_amount</th>\n",
       "      <td>1.000000</td>\n",
       "      <td>0.011006</td>\n",
       "      <td>-0.008096</td>\n",
       "      <td>0.012803</td>\n",
       "      <td>-0.011461</td>\n",
       "      <td>0.012456</td>\n",
       "      <td>0.025319</td>\n",
       "    </tr>\n",
       "    <tr>\n",
       "      <th>pickup_longitude</th>\n",
       "      <td>0.011006</td>\n",
       "      <td>1.000000</td>\n",
       "      <td>-0.413573</td>\n",
       "      <td>0.329369</td>\n",
       "      <td>-0.396313</td>\n",
       "      <td>0.004468</td>\n",
       "      <td>0.291153</td>\n",
       "    </tr>\n",
       "    <tr>\n",
       "      <th>pickup_latitude</th>\n",
       "      <td>-0.008096</td>\n",
       "      <td>-0.413573</td>\n",
       "      <td>1.000000</td>\n",
       "      <td>0.045240</td>\n",
       "      <td>0.060247</td>\n",
       "      <td>-0.006406</td>\n",
       "      <td>-0.204677</td>\n",
       "    </tr>\n",
       "    <tr>\n",
       "      <th>dropoff_longitude</th>\n",
       "      <td>0.012803</td>\n",
       "      <td>0.329369</td>\n",
       "      <td>0.045240</td>\n",
       "      <td>1.000000</td>\n",
       "      <td>-0.876385</td>\n",
       "      <td>0.004946</td>\n",
       "      <td>0.323077</td>\n",
       "    </tr>\n",
       "    <tr>\n",
       "      <th>dropoff_latitude</th>\n",
       "      <td>-0.011461</td>\n",
       "      <td>-0.396313</td>\n",
       "      <td>0.060247</td>\n",
       "      <td>-0.876385</td>\n",
       "      <td>1.000000</td>\n",
       "      <td>-0.005632</td>\n",
       "      <td>-0.212307</td>\n",
       "    </tr>\n",
       "    <tr>\n",
       "      <th>passenger_count</th>\n",
       "      <td>0.012456</td>\n",
       "      <td>0.004468</td>\n",
       "      <td>-0.006406</td>\n",
       "      <td>0.004946</td>\n",
       "      <td>-0.005632</td>\n",
       "      <td>1.000000</td>\n",
       "      <td>-0.001841</td>\n",
       "    </tr>\n",
       "    <tr>\n",
       "      <th>distance</th>\n",
       "      <td>0.025319</td>\n",
       "      <td>0.291153</td>\n",
       "      <td>-0.204677</td>\n",
       "      <td>0.323077</td>\n",
       "      <td>-0.212307</td>\n",
       "      <td>-0.001841</td>\n",
       "      <td>1.000000</td>\n",
       "    </tr>\n",
       "  </tbody>\n",
       "</table>\n",
       "</div>"
      ],
      "text/plain": [
       "                   fare_amount  pickup_longitude  pickup_latitude  \\\n",
       "fare_amount           1.000000          0.011006        -0.008096   \n",
       "pickup_longitude      0.011006          1.000000        -0.413573   \n",
       "pickup_latitude      -0.008096         -0.413573         1.000000   \n",
       "dropoff_longitude     0.012803          0.329369         0.045240   \n",
       "dropoff_latitude     -0.011461         -0.396313         0.060247   \n",
       "passenger_count       0.012456          0.004468        -0.006406   \n",
       "distance              0.025319          0.291153        -0.204677   \n",
       "\n",
       "                   dropoff_longitude  dropoff_latitude  passenger_count  \\\n",
       "fare_amount                 0.012803         -0.011461         0.012456   \n",
       "pickup_longitude            0.329369         -0.396313         0.004468   \n",
       "pickup_latitude             0.045240          0.060247        -0.006406   \n",
       "dropoff_longitude           1.000000         -0.876385         0.004946   \n",
       "dropoff_latitude           -0.876385          1.000000        -0.005632   \n",
       "passenger_count             0.004946         -0.005632         1.000000   \n",
       "distance                    0.323077         -0.212307        -0.001841   \n",
       "\n",
       "                   distance  \n",
       "fare_amount        0.025319  \n",
       "pickup_longitude   0.291153  \n",
       "pickup_latitude   -0.204677  \n",
       "dropoff_longitude  0.323077  \n",
       "dropoff_latitude  -0.212307  \n",
       "passenger_count   -0.001841  \n",
       "distance           1.000000  "
      ]
     },
     "execution_count": 33,
     "metadata": {},
     "output_type": "execute_result"
    }
   ],
   "source": [
    "df.corr()"
   ]
  },
  {
   "cell_type": "code",
   "execution_count": 34,
   "id": "1e0a35af-8b7c-4da3-801d-fe0697460350",
   "metadata": {},
   "outputs": [
    {
     "data": {
      "text/plain": [
       "<Axes: >"
      ]
     },
     "execution_count": 34,
     "metadata": {},
     "output_type": "execute_result"
    },
    {
     "data": {
      "image/png": "[encoded data removed]",
      "text/plain": [
       "<Figure size 640x480 with 2 Axes>"
      ]
     },
     "metadata": {},
     "output_type": "display_data"
    }
   ],
   "source": [
    "sns.heatmap(df.corr(),annot=True)"
   ]
  },
  {
   "cell_type": "code",
   "execution_count": 35,
   "id": "5bdabb34-a88c-4888-a36a-9f71523c5e37",
   "metadata": {},
   "outputs": [],
   "source": [
    "from sklearn.preprocessing import MinMaxScaler"
   ]
  },
  {
   "cell_type": "code",
   "execution_count": 36,
   "id": "a2b5bb82-33a2-49ed-8fab-c733ec53d266",
   "metadata": {},
   "outputs": [],
   "source": [
    "sc=MinMaxScaler()"
   ]
  },
  {
   "cell_type": "code",
   "execution_count": 37,
   "id": "ac53b2f1-eccc-4aa2-b4b4-ef1b0c362d04",
   "metadata": {},
   "outputs": [],
   "source": [
    "df['distance']=sc.fit_transform(df[['distance']])"
   ]
  },
  {
   "cell_type": "code",
   "execution_count": 38,
   "id": "0d89c7c5-7f0f-47f2-855d-2b4b8aa645f2",
   "metadata": {},
   "outputs": [],
   "source": [
    "df['passenger_count']=sc.fit_transform(df[['passenger_count']])"
   ]
  },
  {
   "cell_type": "code",
   "execution_count": 39,
   "id": "901f0782-97fa-4824-a782-e2fd40bc08be",
   "metadata": {},
   "outputs": [
    {
     "data": {
      "text/html": [
       "<div>\n",
       "<style scoped>\n",
       "    .dataframe tbody tr th:only-of-type {\n",
       "        vertical-align: middle;\n",
       "    }\n",
       "\n",
       "    .dataframe tbody tr th {\n",
       "        vertical-align: top;\n",
       "    }\n",
       "\n",
       "    .dataframe thead th {\n",
       "        text-align: right;\n",
       "    }\n",
       "</style>\n",
       "<table border=\"1\" class=\"dataframe\">\n",
       "  <thead>\n",
       "    <tr style=\"text-align: right;\">\n",
       "      <th></th>\n",
       "      <th>fare_amount</th>\n",
       "      <th>pickup_longitude</th>\n",
       "      <th>pickup_latitude</th>\n",
       "      <th>dropoff_longitude</th>\n",
       "      <th>dropoff_latitude</th>\n",
       "      <th>passenger_count</th>\n",
       "      <th>distance</th>\n",
       "    </tr>\n",
       "  </thead>\n",
       "  <tbody>\n",
       "    <tr>\n",
       "      <th>0</th>\n",
       "      <td>7.5</td>\n",
       "      <td>-73.999817</td>\n",
       "      <td>40.738354</td>\n",
       "      <td>-73.999512</td>\n",
       "      <td>40.723217</td>\n",
       "      <td>0.166667</td>\n",
       "      <td>0.000053</td>\n",
       "    </tr>\n",
       "    <tr>\n",
       "      <th>1</th>\n",
       "      <td>7.7</td>\n",
       "      <td>-73.994355</td>\n",
       "      <td>40.728225</td>\n",
       "      <td>-73.994710</td>\n",
       "      <td>40.750325</td>\n",
       "      <td>0.166667</td>\n",
       "      <td>0.000077</td>\n",
       "    </tr>\n",
       "    <tr>\n",
       "      <th>2</th>\n",
       "      <td>12.9</td>\n",
       "      <td>-74.005043</td>\n",
       "      <td>40.740770</td>\n",
       "      <td>-73.962565</td>\n",
       "      <td>40.772647</td>\n",
       "      <td>0.166667</td>\n",
       "      <td>0.000549</td>\n",
       "    </tr>\n",
       "    <tr>\n",
       "      <th>3</th>\n",
       "      <td>5.3</td>\n",
       "      <td>-73.976124</td>\n",
       "      <td>40.790844</td>\n",
       "      <td>-73.965316</td>\n",
       "      <td>40.803349</td>\n",
       "      <td>0.500000</td>\n",
       "      <td>0.000144</td>\n",
       "    </tr>\n",
       "    <tr>\n",
       "      <th>4</th>\n",
       "      <td>16.0</td>\n",
       "      <td>-73.925023</td>\n",
       "      <td>40.744085</td>\n",
       "      <td>-73.973082</td>\n",
       "      <td>40.761247</td>\n",
       "      <td>0.833333</td>\n",
       "      <td>0.000611</td>\n",
       "    </tr>\n",
       "  </tbody>\n",
       "</table>\n",
       "</div>"
      ],
      "text/plain": [
       "   fare_amount  pickup_longitude  pickup_latitude  dropoff_longitude  \\\n",
       "0          7.5        -73.999817        40.738354         -73.999512   \n",
       "1          7.7        -73.994355        40.728225         -73.994710   \n",
       "2         12.9        -74.005043        40.740770         -73.962565   \n",
       "3          5.3        -73.976124        40.790844         -73.965316   \n",
       "4         16.0        -73.925023        40.744085         -73.973082   \n",
       "\n",
       "   dropoff_latitude  passenger_count  distance  \n",
       "0         40.723217         0.166667  0.000053  \n",
       "1         40.750325         0.166667  0.000077  \n",
       "2         40.772647         0.166667  0.000549  \n",
       "3         40.803349         0.500000  0.000144  \n",
       "4         40.761247         0.833333  0.000611  "
      ]
     },
     "execution_count": 39,
     "metadata": {},
     "output_type": "execute_result"
    }
   ],
   "source": [
    "df.head()"
   ]
  },
  {
   "cell_type": "code",
   "execution_count": 40,
   "id": "1cffcab8-c2e0-44ed-a104-8b30c107131d",
   "metadata": {},
   "outputs": [],
   "source": [
    "x=df[['distance','passenger_count']]\n",
    "y=df['fare_amount']"
   ]
  },
  {
   "cell_type": "code",
   "execution_count": 41,
   "id": "6a7a865f-3945-42a3-b701-78de759c483d",
   "metadata": {},
   "outputs": [],
   "source": [
    "from sklearn.model_selection import train_test_split"
   ]
  },
  {
   "cell_type": "code",
   "execution_count": 42,
   "id": "aaffd778-f823-4c30-827b-0712428119a1",
   "metadata": {},
   "outputs": [],
   "source": [
    "x_train,x_test,y_train,y_test=train_test_split(x,y,test_size=0.2,random_state=42)"
   ]
  },
  {
   "cell_type": "code",
   "execution_count": 43,
   "id": "8b8da459-52c1-4a20-a621-637a710b8ce7",
   "metadata": {},
   "outputs": [],
   "source": [
    "from sklearn.linear_model import LinearRegression"
   ]
  },
  {
   "cell_type": "code",
   "execution_count": 44,
   "id": "f764562e-52e7-47e7-a959-f0a7ffdde5d2",
   "metadata": {},
   "outputs": [],
   "source": [
    "from sklearn.ensemble import RandomForestRegressor"
   ]
  },
  {
   "cell_type": "code",
   "execution_count": 45,
   "id": "3f193e37-a09c-4718-a65a-7dff0bc7abbd",
   "metadata": {},
   "outputs": [],
   "source": [
    "linear_model=LinearRegression()"
   ]
  },
  {
   "cell_type": "code",
   "execution_count": 46,
   "id": "f91a7d0c-609b-4841-a4c6-7ecc1cfb3398",
   "metadata": {},
   "outputs": [
    {
     "data": {
      "text/html": [
       "<style>#sk-container-id-1 {color: black;background-color: white;}#sk-container-id-1 pre{padding: 0;}#sk-container-id-1 div.sk-toggleable {background-color: white;}#sk-container-id-1 label.sk-toggleable__label {cursor: pointer;display: block;width: 100%;margin-bottom: 0;padding: 0.3em;box-sizing: border-box;text-align: center;}#sk-container-id-1 label.sk-toggleable__label-arrow:before {content: \"▸\";float: left;margin-right: 0.25em;color: #696969;}#sk-container-id-1 label.sk-toggleable__label-arrow:hover:before {color: black;}#sk-container-id-1 div.sk-estimator:hover label.sk-toggleable__label-arrow:before {color: black;}#sk-container-id-1 div.sk-toggleable__content {max-height: 0;max-width: 0;overflow: hidden;text-align: left;background-color: #f0f8ff;}#sk-container-id-1 div.sk-toggleable__content pre {margin: 0.2em;color: black;border-radius: 0.25em;background-color: #f0f8ff;}#sk-container-id-1 input.sk-toggleable__control:checked~div.sk-toggleable__content {max-height: 200px;max-width: 100%;overflow: auto;}#sk-container-id-1 input.sk-toggleable__control:checked~label.sk-toggleable__label-arrow:before {content: \"▾\";}#sk-container-id-1 div.sk-estimator input.sk-toggleable__control:checked~label.sk-toggleable__label {background-color: #d4ebff;}#sk-container-id-1 div.sk-label input.sk-toggleable__control:checked~label.sk-toggleable__label {background-color: #d4ebff;}#sk-container-id-1 input.sk-hidden--visually {border: 0;clip: rect(1px 1px 1px 1px);clip: rect(1px, 1px, 1px, 1px);height: 1px;margin: -1px;overflow: hidden;padding: 0;position: absolute;width: 1px;}#sk-container-id-1 div.sk-estimator {font-family: monospace;background-color: #f0f8ff;border: 1px dotted black;border-radius: 0.25em;box-sizing: border-box;margin-bottom: 0.5em;}#sk-container-id-1 div.sk-estimator:hover {background-color: #d4ebff;}#sk-container-id-1 div.sk-parallel-item::after {content: \"\";width: 100%;border-bottom: 1px solid gray;flex-grow: 1;}#sk-container-id-1 div.sk-label:hover label.sk-toggleable__label {background-color: #d4ebff;}#sk-container-id-1 div.sk-serial::before {content: \"\";position: absolute;border-left: 1px solid gray;box-sizing: border-box;top: 0;bottom: 0;left: 50%;z-index: 0;}#sk-container-id-1 div.sk-serial {display: flex;flex-direction: column;align-items: center;background-color: white;padding-right: 0.2em;padding-left: 0.2em;position: relative;}#sk-container-id-1 div.sk-item {position: relative;z-index: 1;}#sk-container-id-1 div.sk-parallel {display: flex;align-items: stretch;justify-content: center;background-color: white;position: relative;}#sk-container-id-1 div.sk-item::before, #sk-container-id-1 div.sk-parallel-item::before {content: \"\";position: absolute;border-left: 1px solid gray;box-sizing: border-box;top: 0;bottom: 0;left: 50%;z-index: -1;}#sk-container-id-1 div.sk-parallel-item {display: flex;flex-direction: column;z-index: 1;position: relative;background-color: white;}#sk-container-id-1 div.sk-parallel-item:first-child::after {align-self: flex-end;width: 50%;}#sk-container-id-1 div.sk-parallel-item:last-child::after {align-self: flex-start;width: 50%;}#sk-container-id-1 div.sk-parallel-item:only-child::after {width: 0;}#sk-container-id-1 div.sk-dashed-wrapped {border: 1px dashed gray;margin: 0 0.4em 0.5em 0.4em;box-sizing: border-box;padding-bottom: 0.4em;background-color: white;}#sk-container-id-1 div.sk-label label {font-family: monospace;font-weight: bold;display: inline-block;line-height: 1.2em;}#sk-container-id-1 div.sk-label-container {text-align: center;}#sk-container-id-1 div.sk-container {/* jupyter's `normalize.less` sets `[hidden] { display: none; }` but bootstrap.min.css set `[hidden] { display: none !important; }` so we also need the `!important` here to be able to override the default hidden behavior on the sphinx rendered scikit-learn.org. See: https://github.com/scikit-learn/scikit-learn/issues/21755 */display: inline-block !important;position: relative;}#sk-container-id-1 div.sk-text-repr-fallback {display: none;}</style><div id=\"sk-container-id-1\" class=\"sk-top-container\"><div class=\"sk-text-repr-fallback\"><pre>LinearRegression()</pre><b>In a Jupyter environment, please rerun this cell to show the HTML representation or trust the notebook. <br />On GitHub, the HTML representation is unable to render, please try loading this page with nbviewer.org.</b></div><div class=\"sk-container\" hidden><div class=\"sk-item\"><div class=\"sk-estimator sk-toggleable\"><input class=\"sk-toggleable__control sk-hidden--visually\" id=\"sk-estimator-id-1\" type=\"checkbox\" checked><label for=\"sk-estimator-id-1\" class=\"sk-toggleable__label sk-toggleable__label-arrow\">LinearRegression</label><div class=\"sk-toggleable__content\"><pre>LinearRegression()</pre></div></div></div></div></div>"
      ],
      "text/plain": [
       "LinearRegression()"
      ]
     },
     "execution_count": 46,
     "metadata": {},
     "output_type": "execute_result"
    }
   ],
   "source": [
    "linear_model.fit(x_train,y_train)"
   ]
  },
  {
   "cell_type": "code",
   "execution_count": 47,
   "id": "3e2df065-7fec-45d1-8f00-039e86886743",
   "metadata": {},
   "outputs": [],
   "source": [
    "pred=linear_model.predict(x_test)"
   ]
  },
  {
   "cell_type": "code",
   "execution_count": 48,
   "id": "52a4e7d3-1bfc-4b92-9b0b-cff6706df60a",
   "metadata": {},
   "outputs": [],
   "source": [
    "from sklearn.metrics import r2_score,mean_squared_error"
   ]
  },
  {
   "cell_type": "code",
   "execution_count": 49,
   "id": "dbfb69f8-3c79-418b-9c4c-80f7ba5dd8c0",
   "metadata": {},
   "outputs": [
    {
     "name": "stdout",
     "output_type": "stream",
     "text": [
      "R2 score is :  0.0008166387160682964\n"
     ]
    }
   ],
   "source": [
    "print('R2 score is : ',r2_score(y_test,pred))"
   ]
  },
  {
   "cell_type": "code",
   "execution_count": 50,
   "id": "6c323933-8f51-44d0-86ae-335db124d020",
   "metadata": {},
   "outputs": [
    {
     "name": "stdout",
     "output_type": "stream",
     "text": [
      "RMSE score is:  9.666431739995115\n"
     ]
    }
   ],
   "source": [
    "print('RMSE score is: ',np.sqrt(mean_squared_error(y_test,pred)))"
   ]
  },
  {
   "cell_type": "code",
   "execution_count": 51,
   "id": "f956a1db-0400-4bfb-aacc-5c13fd931f3a",
   "metadata": {},
   "outputs": [],
   "source": [
    "rf=RandomForestRegressor(n_estimators=100, random_state=42)"
   ]
  },
  {
   "cell_type": "code",
   "execution_count": 52,
   "id": "261300be-cff6-4852-90ea-cff3cf3d046e",
   "metadata": {},
   "outputs": [
    {
     "data": {
      "text/html": [
       "<style>#sk-container-id-2 {color: black;background-color: white;}#sk-container-id-2 pre{padding: 0;}#sk-container-id-2 div.sk-toggleable {background-color: white;}#sk-container-id-2 label.sk-toggleable__label {cursor: pointer;display: block;width: 100%;margin-bottom: 0;padding: 0.3em;box-sizing: border-box;text-align: center;}#sk-container-id-2 label.sk-toggleable__label-arrow:before {content: \"▸\";float: left;margin-right: 0.25em;color: #696969;}#sk-container-id-2 label.sk-toggleable__label-arrow:hover:before {color: black;}#sk-container-id-2 div.sk-estimator:hover label.sk-toggleable__label-arrow:before {color: black;}#sk-container-id-2 div.sk-toggleable__content {max-height: 0;max-width: 0;overflow: hidden;text-align: left;background-color: #f0f8ff;}#sk-container-id-2 div.sk-toggleable__content pre {margin: 0.2em;color: black;border-radius: 0.25em;background-color: #f0f8ff;}#sk-container-id-2 input.sk-toggleable__control:checked~div.sk-toggleable__content {max-height: 200px;max-width: 100%;overflow: auto;}#sk-container-id-2 input.sk-toggleable__control:checked~label.sk-toggleable__label-arrow:before {content: \"▾\";}#sk-container-id-2 div.sk-estimator input.sk-toggleable__control:checked~label.sk-toggleable__label {background-color: #d4ebff;}#sk-container-id-2 div.sk-label input.sk-toggleable__control:checked~label.sk-toggleable__label {background-color: #d4ebff;}#sk-container-id-2 input.sk-hidden--visually {border: 0;clip: rect(1px 1px 1px 1px);clip: rect(1px, 1px, 1px, 1px);height: 1px;margin: -1px;overflow: hidden;padding: 0;position: absolute;width: 1px;}#sk-container-id-2 div.sk-estimator {font-family: monospace;background-color: #f0f8ff;border: 1px dotted black;border-radius: 0.25em;box-sizing: border-box;margin-bottom: 0.5em;}#sk-container-id-2 div.sk-estimator:hover {background-color: #d4ebff;}#sk-container-id-2 div.sk-parallel-item::after {content: \"\";width: 100%;border-bottom: 1px solid gray;flex-grow: 1;}#sk-container-id-2 div.sk-label:hover label.sk-toggleable__label {background-color: #d4ebff;}#sk-container-id-2 div.sk-serial::before {content: \"\";position: absolute;border-left: 1px solid gray;box-sizing: border-box;top: 0;bottom: 0;left: 50%;z-index: 0;}#sk-container-id-2 div.sk-serial {display: flex;flex-direction: column;align-items: center;background-color: white;padding-right: 0.2em;padding-left: 0.2em;position: relative;}#sk-container-id-2 div.sk-item {position: relative;z-index: 1;}#sk-container-id-2 div.sk-parallel {display: flex;align-items: stretch;justify-content: center;background-color: white;position: relative;}#sk-container-id-2 div.sk-item::before, #sk-container-id-2 div.sk-parallel-item::before {content: \"\";position: absolute;border-left: 1px solid gray;box-sizing: border-box;top: 0;bottom: 0;left: 50%;z-index: -1;}#sk-container-id-2 div.sk-parallel-item {display: flex;flex-direction: column;z-index: 1;position: relative;background-color: white;}#sk-container-id-2 div.sk-parallel-item:first-child::after {align-self: flex-end;width: 50%;}#sk-container-id-2 div.sk-parallel-item:last-child::after {align-self: flex-start;width: 50%;}#sk-container-id-2 div.sk-parallel-item:only-child::after {width: 0;}#sk-container-id-2 div.sk-dashed-wrapped {border: 1px dashed gray;margin: 0 0.4em 0.5em 0.4em;box-sizing: border-box;padding-bottom: 0.4em;background-color: white;}#sk-container-id-2 div.sk-label label {font-family: monospace;font-weight: bold;display: inline-block;line-height: 1.2em;}#sk-container-id-2 div.sk-label-container {text-align: center;}#sk-container-id-2 div.sk-container {/* jupyter's `normalize.less` sets `[hidden] { display: none; }` but bootstrap.min.css set `[hidden] { display: none !important; }` so we also need the `!important` here to be able to override the default hidden behavior on the sphinx rendered scikit-learn.org. See: https://github.com/scikit-learn/scikit-learn/issues/21755 */display: inline-block !important;position: relative;}#sk-container-id-2 div.sk-text-repr-fallback {display: none;}</style><div id=\"sk-container-id-2\" class=\"sk-top-container\"><div class=\"sk-text-repr-fallback\"><pre>RandomForestRegressor(random_state=42)</pre><b>In a Jupyter environment, please rerun this cell to show the HTML representation or trust the notebook. <br />On GitHub, the HTML representation is unable to render, please try loading this page with nbviewer.org.</b></div><div class=\"sk-container\" hidden><div class=\"sk-item\"><div class=\"sk-estimator sk-toggleable\"><input class=\"sk-toggleable__control sk-hidden--visually\" id=\"sk-estimator-id-2\" type=\"checkbox\" checked><label for=\"sk-estimator-id-2\" class=\"sk-toggleable__label sk-toggleable__label-arrow\">RandomForestRegressor</label><div class=\"sk-toggleable__content\"><pre>RandomForestRegressor(random_state=42)</pre></div></div></div></div></div>"
      ],
      "text/plain": [
       "RandomForestRegressor(random_state=42)"
      ]
     },
     "execution_count": 52,
     "metadata": {},
     "output_type": "execute_result"
    }
   ],
   "source": [
    "rf.fit(x_train,y_train)"
   ]
  },
  {
   "cell_type": "code",
   "execution_count": 53,
   "id": "b509ec16-92cc-4040-a789-9b3f0c6e5acc",
   "metadata": {},
   "outputs": [],
   "source": [
    "pred=rf.predict(x_test)"
   ]
  },
  {
   "cell_type": "code",
   "execution_count": 54,
   "id": "467b5d6c-0409-4747-9a2a-368a5f88ca88",
   "metadata": {},
   "outputs": [
    {
     "data": {
      "text/plain": [
       "0.6461600338031012"
      ]
     },
     "execution_count": 54,
     "metadata": {},
     "output_type": "execute_result"
    }
   ],
   "source": [
    "r2_score(y_test,pred)"
   ]
  },
  {
   "cell_type": "code",
   "execution_count": 55,
   "id": "d54bb513-595c-476e-a68b-aa4720118dab",
   "metadata": {},
   "outputs": [
    {
     "data": {
      "text/plain": [
       "5.7523729346205785"
      ]
     },
     "execution_count": 55,
     "metadata": {},
     "output_type": "execute_result"
    }
   ],
   "source": [
    "np.sqrt(mean_squared_error(y_test,pred))"
   ]
  },
  {
   "cell_type": "code",
   "execution_count": null,
   "id": "2fbde2ab-f10e-4d96-a954-0ac5d009d1f2",
   "metadata": {},
   "outputs": [],
   "source": []
  },
  {
   "cell_type": "code",
   "execution_count": null,
   "id": "e6c70212",
   "metadata": {},
   "outputs": [],
   "source": []
  }
 ],
 "metadata": {
  "kernelspec": {
   "display_name": "Python 3",
   "language": "python",
   "name": "python3"
  },
  "language_info": {
   "codemirror_mode": {
    "name": "ipython",
    "version": 3
   },
   "file_extension": ".py",
   "mimetype": "text/x-python",
   "name": "python",
   "nbconvert_exporter": "python",
   "pygments_lexer": "ipython3",
   "version": "3.11.0"
  }
 },
 "nbformat": 4,
 "nbformat_minor": 5
}
