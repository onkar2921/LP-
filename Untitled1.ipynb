{
 "cells": [
  {
   "cell_type": "code",
   "execution_count": 1,
   "id": "0f601f58-f5fb-4892-838b-ceee27417976",
   "metadata": {},
   "outputs": [],
   "source": [
    "#y=(x+3)^2\n",
    "import numpy as np"
   ]
  },
  {
   "cell_type": "code",
   "execution_count": 2,
   "id": "5d02c9b7-7066-4038-8dca-e8da744c5d62",
   "metadata": {},
   "outputs": [],
   "source": [
    "def function(x):\n",
    "    return (x+3)**2"
   ]
  },
  {
   "cell_type": "code",
   "execution_count": 3,
   "id": "f98446e0-cdfb-4b4e-b787-27e88212fd31",
   "metadata": {},
   "outputs": [],
   "source": [
    "def gradient(x):\n",
    "    return 2*(x+3)"
   ]
  },
  {
   "cell_type": "code",
   "execution_count": 5,
   "id": "e6a36a89-02e0-4699-b386-c6ead6d32b1e",
   "metadata": {},
   "outputs": [],
   "source": [
    "def gradient_descent(start,learning_rate,iterations):\n",
    "    x=start\n",
    "    for i in range(iterations):\n",
    "        grad=gradient(x)\n",
    "        x=x-learning_rate*grad\n",
    "        print(f\"iteration {i+1}: x={x} , f(x)={function(x)} \")\n",
    "    return x"
   ]
  },
  {
   "cell_type": "code",
   "execution_count": 6,
   "id": "dccddb4a-2e87-4b80-9b00-c20ae8942a78",
   "metadata": {},
   "outputs": [],
   "source": [
    "start=2.0\n",
    "l_r=.1\n",
    "itrs=20"
   ]
  },
  {
   "cell_type": "code",
   "execution_count": 7,
   "id": "706b523b-a5af-4aca-b3bd-554e64a1ce0c",
   "metadata": {},
   "outputs": [
    {
     "name": "stdout",
     "output_type": "stream",
     "text": [
      "iteration 1: x=1.0 , f(x)=16.0 \n",
      "iteration 2: x=0.19999999999999996 , f(x)=10.240000000000002 \n",
      "iteration 3: x=-0.44000000000000017 , f(x)=6.553599999999998 \n",
      "iteration 4: x=-0.9520000000000001 , f(x)=4.194304 \n",
      "iteration 5: x=-1.3616000000000001 , f(x)=2.6843545599999996 \n",
      "iteration 6: x=-1.6892800000000001 , f(x)=1.7179869183999996 \n",
      "iteration 7: x=-1.951424 , f(x)=1.099511627776 \n",
      "iteration 8: x=-2.1611392 , f(x)=0.7036874417766399 \n",
      "iteration 9: x=-2.32891136 , f(x)=0.4503599627370493 \n",
      "iteration 10: x=-2.463129088 , f(x)=0.28823037615171165 \n",
      "iteration 11: x=-2.5705032704 , f(x)=0.1844674407370954 \n",
      "iteration 12: x=-2.6564026163200003 , f(x)=0.11805916207174093 \n",
      "iteration 13: x=-2.725122093056 , f(x)=0.07555786372591429 \n",
      "iteration 14: x=-2.7800976744448 , f(x)=0.04835703278458515 \n",
      "iteration 15: x=-2.82407813955584 , f(x)=0.030948500982134555 \n",
      "iteration 16: x=-2.8592625116446717 , f(x)=0.019807040628566166 \n",
      "iteration 17: x=-2.8874100093157375 , f(x)=0.012676506002282305 \n",
      "iteration 18: x=-2.90992800745259 , f(x)=0.008112963841460692 \n",
      "iteration 19: x=-2.927942405962072 , f(x)=0.005192296858534868 \n",
      "iteration 20: x=-2.9423539247696575 , f(x)=0.0033230699894623056 \n"
     ]
    },
    {
     "data": {
      "text/plain": [
       "-2.9423539247696575"
      ]
     },
     "execution_count": 7,
     "metadata": {},
     "output_type": "execute_result"
    }
   ],
   "source": [
    "gradient_descent(start,l_r,itrs)"
   ]
  },
  {
   "cell_type": "code",
   "execution_count": null,
   "id": "c242cdbc-2417-4621-85e9-c6aa08c49c79",
   "metadata": {},
   "outputs": [],
   "source": []
  }
 ],
 "metadata": {
  "kernelspec": {
   "display_name": "Python 3 (ipykernel)",
   "language": "python",
   "name": "python3"
  },
  "language_info": {
   "codemirror_mode": {
    "name": "ipython",
    "version": 3
   },
   "file_extension": ".py",
   "mimetype": "text/x-python",
   "name": "python",
   "nbconvert_exporter": "python",
   "pygments_lexer": "ipython3",
   "version": "3.11.0"
  }
 },
 "nbformat": 4,
 "nbformat_minor": 5
}
